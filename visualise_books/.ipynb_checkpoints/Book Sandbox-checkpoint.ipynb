{
 "metadata": {
  "name": "",
  "signature": "sha256:17c15ad76029c57d310557ebd48a7e3fbf6a47b2a041706cdf59e2a514377245"
 },
 "nbformat": 3,
 "nbformat_minor": 0,
 "worksheets": [
  {
   "cells": [
    {
     "cell_type": "code",
     "collapsed": false,
     "input": [
      "import os\n",
      "import nltk\n",
      "from nltk.corpus import stopwords\n",
      "from nltk.corpus import PlaintextCorpusReader\n",
      "\n",
      "corpus_root = os.path.join(os.path.abspath(os.curdir), 'data')\n",
      "corpus = PlaintextCorpusReader(corpus_root, '.*')\n",
      "stopwords = set(stopwords.words('english'))\n",
      "print corpus.fileids()"
     ],
     "language": "python",
     "metadata": {},
     "outputs": [
      {
       "output_type": "stream",
       "stream": "stdout",
       "text": [
        "['Beyond Good and Evil_Nietzsche.txt', 'Laughter_Bergson.txt', 'Principles of Morals_Hume.txt', 'The Principles Of Aesthetics_Parker.txt', 'The Problems of Philosophy_Russell.txt', 'Towards a Theory of Knowledge_Philip.txt']\n"
       ]
      }
     ],
     "prompt_number": 4
    },
    {
     "cell_type": "code",
     "collapsed": false,
     "input": [
      "book1 = 'Laughter_Bergson.txt'\n",
      "\n",
      "book1_fd = nltk.FreqDist([w.lower() for w in corpus.words(book1) if w.isalpha() and w.lower() not in stopwords])\n",
      "\n",
      "book1_fd.most_common(1920/4)"
     ],
     "language": "python",
     "metadata": {},
     "outputs": [
      {
       "metadata": {},
       "output_type": "pyout",
       "prompt_number": 13,
       "text": [
        "[(u'comic', 316),\n",
        " (u'one', 261),\n",
        " (u'us', 217),\n",
        " (u'life', 121),\n",
        " (u'would', 118),\n",
        " (u'may', 107),\n",
        " (u'laughter', 89),\n",
        " (u'two', 85),\n",
        " (u'though', 83),\n",
        " (u'must', 79),\n",
        " (u'certain', 79),\n",
        " (u'comedy', 79),\n",
        " (u'even', 70),\n",
        " (u'find', 65),\n",
        " (u'character', 62),\n",
        " (u'laugh', 62),\n",
        " (u'upon', 62),\n",
        " (u'form', 61),\n",
        " (u'always', 58),\n",
        " (u'kind', 57),\n",
        " (u'see', 57),\n",
        " (u'something', 57),\n",
        " (u'like', 57),\n",
        " (u'another', 55),\n",
        " (u'every', 54),\n",
        " (u'man', 54),\n",
        " (u'idea', 54),\n",
        " (u'first', 53),\n",
        " (u'point', 53),\n",
        " (u'nature', 52)]"
       ]
      }
     ],
     "prompt_number": 13
    },
    {
     "cell_type": "code",
     "collapsed": false,
     "input": [
      "book1_important_words = ['comic', 'life', 'laughter', 'certain', 'comedy', 'character', 'laugh', 'kind', 'idea', 'nature']"
     ],
     "language": "python",
     "metadata": {},
     "outputs": [],
     "prompt_number": 14
    },
    {
     "cell_type": "code",
     "collapsed": false,
     "input": [],
     "language": "python",
     "metadata": {},
     "outputs": []
    }
   ],
   "metadata": {}
  }
 ]
}